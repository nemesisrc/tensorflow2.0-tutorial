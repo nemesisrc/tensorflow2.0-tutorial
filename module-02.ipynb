{
 "cells": [
  {
   "cell_type": "markdown",
   "id": "3fe4b2ac",
   "metadata": {},
   "source": [
    "MODULE 02 : INTRODUCTION TO TENSORFLOW"
   ]
  },
  {
   "cell_type": "code",
   "execution_count": 9,
   "id": "80e46151",
   "metadata": {},
   "outputs": [],
   "source": [
    "# importing necessary libraries\n",
    "import numpy as np\n",
    "import pandas as pd\n",
    "import matplotlib.pyplot as plt\n",
    "import seaborn as sns\n",
    "import sklearn  as sk\n",
    "import tensorflow as tf"
   ]
  },
  {
   "cell_type": "code",
   "execution_count": 10,
   "id": "8b09ec99",
   "metadata": {},
   "outputs": [],
   "source": [
    "# creating tensors\n",
    "string = tf.Variable('hello nemesis !!', tf.string)\n",
    "number = tf.Variable(123, tf.int16)\n",
    "float_num = tf.Variable(3.14, tf.float64)"
   ]
  },
  {
   "cell_type": "code",
   "execution_count": 12,
   "id": "847f97e1",
   "metadata": {},
   "outputs": [
    {
     "name": "stdout",
     "output_type": "stream",
     "text": [
      "tf.Tensor(1, shape=(), dtype=int32)\n"
     ]
    }
   ],
   "source": [
    "# degree/rank of tensors\n",
    "tensor1 = tf.Variable([1, 2, 3], tf.int32)\n",
    "tensor2 = tf.Variable([[1, 2, 3], [4, 5, 6]], tf.int32)\n",
    "print(tf.rank(tensor1))  # returns 1"
   ]
  },
  {
   "cell_type": "code",
   "execution_count": null,
   "id": "f97a761a",
   "metadata": {},
   "outputs": [],
   "source": []
  }
 ],
 "metadata": {
  "kernelspec": {
   "display_name": "Python 3",
   "language": "python",
   "name": "python3"
  },
  "language_info": {
   "codemirror_mode": {
    "name": "ipython",
    "version": 3
   },
   "file_extension": ".py",
   "mimetype": "text/x-python",
   "name": "python",
   "nbconvert_exporter": "python",
   "pygments_lexer": "ipython3",
   "version": "3.11.9"
  }
 },
 "nbformat": 4,
 "nbformat_minor": 5
}
