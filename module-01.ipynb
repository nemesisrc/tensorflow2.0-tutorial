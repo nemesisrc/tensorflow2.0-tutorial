{
 "cells": [
  {
   "cell_type": "markdown",
   "id": "55728cc0",
   "metadata": {},
   "source": [
    "MODULE 1 : MACHINE LEARNING FUNDAMENTALS"
   ]
  },
  {
   "cell_type": "markdown",
   "id": "654c4bc6",
   "metadata": {},
   "source": []
  }
 ],
 "metadata": {
  "language_info": {
   "name": "python"
  }
 },
 "nbformat": 4,
 "nbformat_minor": 5
}
