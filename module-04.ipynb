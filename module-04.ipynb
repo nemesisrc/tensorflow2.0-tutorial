{
 "cells": [
  {
   "cell_type": "markdown",
   "id": "25ad9047",
   "metadata": {},
   "source": [
    "MODULE 4 : NEURAL NETWORKS WITH TENSORFLOW"
   ]
  },
  {
   "cell_type": "markdown",
   "id": "08de87d4",
   "metadata": {},
   "source": []
  }
 ],
 "metadata": {
  "language_info": {
   "name": "python"
  }
 },
 "nbformat": 4,
 "nbformat_minor": 5
}
